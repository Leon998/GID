{
 "cells": [
  {
   "cell_type": "code",
   "execution_count": 3,
   "outputs": [
    {
     "data": {
      "text/plain": "array([[0.14275416, 0.26463322, 0.08163218, 0.16122796, 0.22358546,\n        0.2339215 , 0.13084907, 0.08124185, 0.03303189, 0.06647819,\n        0.15675067, 0.32565514, 0.2406247 , 0.01050899, 0.10540369,\n        0.15455829]])"
     },
     "execution_count": 3,
     "metadata": {},
     "output_type": "execute_result"
    }
   ],
   "source": [
    "import pandas as pd\n",
    "import numpy as np\n",
    "\n",
    "\n",
    "def conf(seq):\n",
    "    p = 0\n",
    "    for i in seq:\n",
    "        if i > 0:\n",
    "            p += i\n",
    "    return p / len(seq)\n",
    "\n",
    "def conf_seq(df):\n",
    "    object_list = df.columns[1:]\n",
    "    object_seq = []\n",
    "    for object in object_list:\n",
    "        object_seq.append(conf(df[object]))\n",
    "    return object_seq\n",
    "\n",
    "df1 = pd.read_excel('../results/data.xlsx', sheet_name='score_-c')\n",
    "df2 = pd.read_excel('../results/data.xlsx', sheet_name='score_b')\n",
    "df3 = pd.read_excel('../results/data.xlsx', sheet_name='score_b&c')\n",
    "object_seq1 = conf_seq(df1)\n",
    "object_seq2 = conf_seq(df2)\n",
    "object_seq3 = conf_seq(df3)\n",
    "object_seq1 = np.array(object_seq1)\n",
    "object_seq1\n"
   ],
   "metadata": {
    "collapsed": false,
    "pycharm": {
     "name": "#%%\n"
    }
   }
  },
  {
   "cell_type": "code",
   "execution_count": 4,
   "outputs": [
    {
     "data": {
      "text/plain": "array([0.17379272, 0.32873784, 0.27903479, 0.20239387, 0.24587308,\n       0.26765333, 0.17690099, 0.13103781, 0.048841  , 0.08043514,\n       0.17138952, 0.40101459, 0.29836922, 0.00430622, 0.11671903,\n       0.29221358])"
     },
     "execution_count": 4,
     "metadata": {},
     "output_type": "execute_result"
    }
   ],
   "source": [
    "object_seq2 = np.array(object_seq2)\n",
    "object_seq2"
   ],
   "metadata": {
    "collapsed": false,
    "pycharm": {
     "name": "#%%\n"
    }
   }
  },
  {
   "cell_type": "code",
   "execution_count": 5,
   "outputs": [
    {
     "data": {
      "text/plain": "array([0.24346973, 0.42765541, 0.3334521 , 0.31097033, 0.34535187,\n       0.39326106, 0.28170091, 0.16912615, 0.12303259, 0.14899269,\n       0.26795007, 0.48967478, 0.37589441, 0.02763143, 0.23100769,\n       0.37590442])"
     },
     "execution_count": 5,
     "metadata": {},
     "output_type": "execute_result"
    }
   ],
   "source": [
    "object_seq3 = np.array(object_seq3)\n",
    "object_seq3"
   ],
   "metadata": {
    "collapsed": false,
    "pycharm": {
     "name": "#%%\n"
    }
   }
  },
  {
   "cell_type": "code",
   "execution_count": null,
   "outputs": [],
   "source": [],
   "metadata": {
    "collapsed": false,
    "pycharm": {
     "name": "#%%\n"
    }
   }
  }
 ],
 "metadata": {
  "kernelspec": {
   "display_name": "Python 3",
   "language": "python",
   "name": "python3"
  },
  "language_info": {
   "codemirror_mode": {
    "name": "ipython",
    "version": 2
   },
   "file_extension": ".py",
   "mimetype": "text/x-python",
   "name": "python",
   "nbconvert_exporter": "python",
   "pygments_lexer": "ipython2",
   "version": "2.7.6"
  }
 },
 "nbformat": 4,
 "nbformat_minor": 0
}