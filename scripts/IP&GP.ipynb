{
 "cells": [
  {
   "cell_type": "code",
   "execution_count": 7,
   "metadata": {
    "collapsed": true,
    "pycharm": {
     "name": "#%%\n"
    }
   },
   "outputs": [],
   "source": [
    "import os\n",
    "import numpy as np\n",
    "\n",
    "\n",
    "def read_file(path):\n",
    "    seq = []\n",
    "    for line in open(path):\n",
    "        line=line.strip('\\n')\n",
    "        seq.append(float(line))\n",
    "    return seq[-1]"
   ]
  },
  {
   "cell_type": "code",
   "execution_count": 8,
   "outputs": [],
   "source": [
    "object_list = os.listdir('../evals')\n",
    "object_list.sort()\n",
    "IP_list = []\n",
    "GP_list = []\n",
    "for object in object_list:\n",
    "    IP_list.append(str('../evals/' + object + '/IP.txt'))\n",
    "    GP_list.append(str('../evals/' + object + '/GP.txt'))"
   ],
   "metadata": {
    "collapsed": false,
    "pycharm": {
     "name": "#%%\n"
    }
   }
  },
  {
   "cell_type": "code",
   "execution_count": 9,
   "outputs": [],
   "source": [
    "object_IP = []\n",
    "object_GP = []\n",
    "for IP in IP_list:\n",
    "    object_IP.append(read_file(IP))\n",
    "for GP in GP_list:\n",
    "    object_GP.append(read_file(GP))\n",
    "object_IP = np.array(object_IP)\n",
    "object_GP = np.array(object_GP)"
   ],
   "metadata": {
    "collapsed": false,
    "pycharm": {
     "name": "#%%\n"
    }
   }
  },
  {
   "cell_type": "code",
   "execution_count": 10,
   "outputs": [
    {
     "data": {
      "text/plain": "array([0.7027027 , 0.88235294, 0.96153846, 0.90625   , 0.80645161,\n       0.875     , 0.71428571, 0.74193548, 0.63888889, 0.61290323,\n       0.75      , 0.94117647, 0.88888889, 0.55555556, 0.84615385,\n       0.96875   ])"
     },
     "execution_count": 10,
     "metadata": {},
     "output_type": "execute_result"
    }
   ],
   "source": [
    "object_IP"
   ],
   "metadata": {
    "collapsed": false,
    "pycharm": {
     "name": "#%%\n"
    }
   }
  },
  {
   "cell_type": "code",
   "execution_count": 11,
   "outputs": [
    {
     "data": {
      "text/plain": "array([0.67567568, 0.85294118, 0.86538462, 0.75      , 0.67741935,\n       0.625     , 0.68571429, 0.74193548, 0.55555556, 0.58064516,\n       0.75      , 0.91176471, 0.66666667, 0.55555556, 0.73076923,\n       0.78125   ])"
     },
     "execution_count": 11,
     "metadata": {},
     "output_type": "execute_result"
    }
   ],
   "source": [
    "object_GP"
   ],
   "metadata": {
    "collapsed": false,
    "pycharm": {
     "name": "#%%\n"
    }
   }
  },
  {
   "cell_type": "code",
   "execution_count": 12,
   "outputs": [
    {
     "data": {
      "text/plain": "array([0.7027027 , 0.67567568, 0.88235294, 0.85294118, 0.96153846,\n       0.86538462, 0.90625   , 0.75      , 0.80645161, 0.67741935,\n       0.875     , 0.625     , 0.71428571, 0.68571429, 0.74193548,\n       0.74193548, 0.63888889, 0.55555556, 0.61290323, 0.58064516,\n       0.75      , 0.75      , 0.94117647, 0.91176471, 0.88888889,\n       0.66666667, 0.55555556, 0.55555556, 0.84615385, 0.73076923,\n       0.96875   , 0.78125   ])"
     },
     "execution_count": 12,
     "metadata": {},
     "output_type": "execute_result"
    }
   ],
   "source": [
    "IPGP = np.zeros(32)\n",
    "for i in range(32):\n",
    "    if i % 2 == 0:\n",
    "        idx = int(i/2)\n",
    "        IPGP[i] = object_IP[idx]\n",
    "    else:\n",
    "        idx = int((i-1)/2)\n",
    "        IPGP[i] = object_GP[idx]\n",
    "IPGP"
   ],
   "metadata": {
    "collapsed": false,
    "pycharm": {
     "name": "#%%\n"
    }
   }
  },
  {
   "cell_type": "code",
   "execution_count": 12,
   "outputs": [],
   "source": [],
   "metadata": {
    "collapsed": false,
    "pycharm": {
     "name": "#%%\n"
    }
   }
  }
 ],
 "metadata": {
  "kernelspec": {
   "display_name": "Python 3",
   "language": "python",
   "name": "python3"
  },
  "language_info": {
   "codemirror_mode": {
    "name": "ipython",
    "version": 2
   },
   "file_extension": ".py",
   "mimetype": "text/x-python",
   "name": "python",
   "nbconvert_exporter": "python",
   "pygments_lexer": "ipython2",
   "version": "2.7.6"
  }
 },
 "nbformat": 4,
 "nbformat_minor": 0
}