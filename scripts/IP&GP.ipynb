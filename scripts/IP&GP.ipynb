{
 "cells": [
  {
   "cell_type": "code",
   "execution_count": 34,
   "metadata": {
    "collapsed": true,
    "pycharm": {
     "name": "#%%\n"
    }
   },
   "outputs": [],
   "source": [
    "import os\n",
    "import numpy as np\n",
    "\n",
    "\n",
    "def read_file(path):\n",
    "    seq = []\n",
    "    for line in open(path):\n",
    "        line=line.strip('\\n')\n",
    "        seq.append(float(line))\n",
    "    return seq[-1]"
   ]
  },
  {
   "cell_type": "code",
   "execution_count": 35,
   "outputs": [],
   "source": [
    "filepath = '../results/location2/'\n",
    "object_list = os.listdir(filepath)\n",
    "object_list.sort()\n",
    "IP_list = []\n",
    "GP_list = []\n",
    "for object in object_list:\n",
    "    IP_list.append(str(filepath + object + '/IP.txt'))\n",
    "    GP_list.append(str(filepath + object + '/GP.txt'))"
   ],
   "metadata": {
    "collapsed": false,
    "pycharm": {
     "name": "#%%\n"
    }
   }
  },
  {
   "cell_type": "code",
   "execution_count": 36,
   "outputs": [],
   "source": [
    "object_IP = []\n",
    "object_GP = []\n",
    "for IP in IP_list:\n",
    "    object_IP.append(read_file(IP))\n",
    "for GP in GP_list:\n",
    "    object_GP.append(read_file(GP))\n",
    "object_IP = np.array(object_IP)\n",
    "object_GP = np.array(object_GP)"
   ],
   "metadata": {
    "collapsed": false,
    "pycharm": {
     "name": "#%%\n"
    }
   }
  },
  {
   "cell_type": "code",
   "execution_count": 37,
   "outputs": [
    {
     "data": {
      "text/plain": "array([0.6       , 1.        , 1.        , 1.        , 1.        ,\n       0.5       , 0.6       , 0.66666667, 0.5       , 0.75      ,\n       1.        , 1.        , 1.        , 0.66666667, 1.        ,\n       1.        ])"
     },
     "execution_count": 37,
     "metadata": {},
     "output_type": "execute_result"
    }
   ],
   "source": [
    "object_IP"
   ],
   "metadata": {
    "collapsed": false,
    "pycharm": {
     "name": "#%%\n"
    }
   }
  },
  {
   "cell_type": "code",
   "execution_count": 38,
   "outputs": [
    {
     "data": {
      "text/plain": "array([0.6       , 0.75      , 1.        , 1.        , 1.        ,\n       0.25      , 0.6       , 0.66666667, 0.5       , 0.75      ,\n       1.        , 0.8       , 0.5       , 0.66666667, 1.        ,\n       1.        ])"
     },
     "execution_count": 38,
     "metadata": {},
     "output_type": "execute_result"
    }
   ],
   "source": [
    "object_GP"
   ],
   "metadata": {
    "collapsed": false,
    "pycharm": {
     "name": "#%%\n"
    }
   }
  },
  {
   "cell_type": "code",
   "execution_count": 38,
   "outputs": [],
   "source": [],
   "metadata": {
    "collapsed": false,
    "pycharm": {
     "name": "#%%\n"
    }
   }
  }
 ],
 "metadata": {
  "kernelspec": {
   "display_name": "Python 3",
   "language": "python",
   "name": "python3"
  },
  "language_info": {
   "codemirror_mode": {
    "name": "ipython",
    "version": 2
   },
   "file_extension": ".py",
   "mimetype": "text/x-python",
   "name": "python",
   "nbconvert_exporter": "python",
   "pygments_lexer": "ipython2",
   "version": "2.7.6"
  }
 },
 "nbformat": 4,
 "nbformat_minor": 0
}