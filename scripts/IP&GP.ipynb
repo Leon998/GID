{
 "cells": [
  {
   "cell_type": "code",
   "execution_count": 206,
   "metadata": {
    "collapsed": true,
    "pycharm": {
     "name": "#%%\n"
    }
   },
   "outputs": [],
   "source": [
    "import os\n",
    "import numpy as np\n",
    "\n",
    "\n",
    "def read_file(path):\n",
    "    seq = []\n",
    "    for line in open(path):\n",
    "        line=line.strip('\\n')\n",
    "        seq.append(float(line))\n",
    "    return seq[-1]"
   ]
  },
  {
   "cell_type": "code",
   "execution_count": 207,
   "outputs": [],
   "source": [
    "object_list = os.listdir('../evals')\n",
    "object_list.sort()\n",
    "IP_list = []\n",
    "GP_list = []\n",
    "for object in object_list:\n",
    "    IP_list.append(str('../evals/' + object + '/IP.txt'))\n",
    "    GP_list.append(str('../evals/' + object + '/GP.txt'))"
   ],
   "metadata": {
    "collapsed": false,
    "pycharm": {
     "name": "#%%\n"
    }
   }
  },
  {
   "cell_type": "code",
   "execution_count": 208,
   "outputs": [],
   "source": [
    "object_IP = []\n",
    "object_GP = []\n",
    "for IP in IP_list:\n",
    "    object_IP.append(read_file(IP))\n",
    "for GP in GP_list:\n",
    "    object_GP.append(read_file(GP))\n",
    "object_IP = np.array(object_IP)\n",
    "object_GP = np.array(object_GP)"
   ],
   "metadata": {
    "collapsed": false,
    "pycharm": {
     "name": "#%%\n"
    }
   }
  },
  {
   "cell_type": "code",
   "execution_count": 209,
   "outputs": [
    {
     "data": {
      "text/plain": "array([0.83783784, 0.97058824, 0.84615385, 0.78125   , 0.87096774,\n       0.91666667, 0.74285714, 0.70967742, 0.58333333, 0.38709677,\n       0.86111111, 0.97058824, 0.83333333, 0.42592593, 0.65384615,\n       0.90625   ])"
     },
     "execution_count": 209,
     "metadata": {},
     "output_type": "execute_result"
    }
   ],
   "source": [
    "object_IP"
   ],
   "metadata": {
    "collapsed": false,
    "pycharm": {
     "name": "#%%\n"
    }
   }
  },
  {
   "cell_type": "code",
   "execution_count": 210,
   "outputs": [
    {
     "data": {
      "text/plain": "array([0.67567568, 0.58823529, 0.40384615, 0.46875   , 0.51612903,\n       0.54166667, 0.62857143, 0.4516129 , 0.36111111, 0.32258065,\n       0.58333333, 0.5       , 0.27777778, 0.27777778, 0.42307692,\n       0.34375   ])"
     },
     "execution_count": 210,
     "metadata": {},
     "output_type": "execute_result"
    }
   ],
   "source": [
    "object_GP"
   ],
   "metadata": {
    "collapsed": false,
    "pycharm": {
     "name": "#%%\n"
    }
   }
  },
  {
   "cell_type": "code",
   "execution_count": 211,
   "outputs": [
    {
     "data": {
      "text/plain": "array([0.83783784, 0.67567568, 0.97058824, 0.58823529, 0.84615385,\n       0.40384615, 0.78125   , 0.46875   , 0.87096774, 0.51612903,\n       0.91666667, 0.54166667, 0.74285714, 0.62857143, 0.70967742,\n       0.4516129 , 0.58333333, 0.36111111, 0.38709677, 0.32258065,\n       0.86111111, 0.58333333, 0.97058824, 0.5       , 0.83333333,\n       0.27777778, 0.42592593, 0.27777778, 0.65384615, 0.42307692,\n       0.90625   , 0.34375   ])"
     },
     "execution_count": 211,
     "metadata": {},
     "output_type": "execute_result"
    }
   ],
   "source": [
    "IPGP = np.zeros(32)\n",
    "for i in range(32):\n",
    "    if i % 2 == 0:\n",
    "        idx = int(i/2)\n",
    "        IPGP[i] = object_IP[idx]\n",
    "    else:\n",
    "        idx = int((i-1)/2)\n",
    "        IPGP[i] = object_GP[idx]\n",
    "IPGP"
   ],
   "metadata": {
    "collapsed": false,
    "pycharm": {
     "name": "#%%\n"
    }
   }
  },
  {
   "cell_type": "code",
   "execution_count": 211,
   "outputs": [],
   "source": [],
   "metadata": {
    "collapsed": false,
    "pycharm": {
     "name": "#%%\n"
    }
   }
  }
 ],
 "metadata": {
  "kernelspec": {
   "display_name": "Python 3",
   "language": "python",
   "name": "python3"
  },
  "language_info": {
   "codemirror_mode": {
    "name": "ipython",
    "version": 2
   },
   "file_extension": ".py",
   "mimetype": "text/x-python",
   "name": "python",
   "nbconvert_exporter": "python",
   "pygments_lexer": "ipython2",
   "version": "2.7.6"
  }
 },
 "nbformat": 4,
 "nbformat_minor": 0
}