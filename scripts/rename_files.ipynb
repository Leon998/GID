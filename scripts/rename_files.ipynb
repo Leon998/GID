{
 "cells": [
  {
   "cell_type": "code",
   "execution_count": 5,
   "outputs": [
    {
     "name": "stdout",
     "output_type": "stream",
     "text": [
      "15\n",
      "Total string length of the new names = 3\n",
      "['000', '001', '002', '003', '004', '005', '006', '007', '008', '009', '010', '011', '012', '013', '014', '015']\n",
      "WIN_20220715_18_56_02_Pro.mp4 ==> 001.mp4\n",
      "WIN_20220715_18_56_12_Pro.mp4 ==> 002.mp4\n",
      "WIN_20220715_18_56_18_Pro.mp4 ==> 003.mp4\n",
      "WIN_20220715_18_56_24_Pro.mp4 ==> 004.mp4\n",
      "WIN_20220715_18_56_31_Pro.mp4 ==> 005.mp4\n",
      "WIN_20220715_18_56_38_Pro.mp4 ==> 006.mp4\n",
      "WIN_20220715_18_56_56_Pro.mp4 ==> 007.mp4\n",
      "WIN_20220715_18_57_00_Pro.mp4 ==> 008.mp4\n",
      "WIN_20220715_18_57_06_Pro.mp4 ==> 009.mp4\n",
      "WIN_20220715_18_57_15_Pro.mp4 ==> 010.mp4\n",
      "WIN_20220715_18_57_20_Pro.mp4 ==> 011.mp4\n",
      "WIN_20220715_18_57_25_Pro.mp4 ==> 012.mp4\n",
      "WIN_20220715_18_57_41_Pro.mp4 ==> 013.mp4\n",
      "WIN_20220715_18_57_48_Pro.mp4 ==> 014.mp4\n",
      "WIN_20220715_18_57_54_Pro.mp4 ==> 015.mp4\n"
     ]
    }
   ],
   "source": [
    "import os\n",
    "\n",
    "\n",
    "def batch_rename(path, begin_num):\n",
    "    fileList = os.listdir(path)  # 获得所有文件名列表，可以print(fileList)查看\n",
    "    fileList.sort()\n",
    "    print(len(fileList))\n",
    "    name_len = len(str(len(fileList))) + 1\n",
    "    print('Total string length of the new names =', name_len)\n",
    "    L = []\n",
    "    for i in range(len(fileList) + 1):\n",
    "        zfill = name_len -len(str(i))\n",
    "        L.append('0' * zfill)\n",
    "        L[i] += str(i)\n",
    "    print(L)  # L is the list of latent new names\n",
    "    idx = begin_num\n",
    "    for filename in fileList:\n",
    "        newname = L[idx + 1] + \".mp4\"\n",
    "        print(filename, \"==>\", newname)\n",
    "        idx += 1\n",
    "        os.rename(path + filename, path + newname)\n",
    "\n",
    "folder = '/home/shixu/My_env/Dataset/switch/'\n",
    "batch_rename(folder, 0)"
   ],
   "metadata": {
    "collapsed": false,
    "pycharm": {
     "name": "#%%\n"
    }
   }
  },
  {
   "cell_type": "code",
   "execution_count": null,
   "outputs": [],
   "source": [],
   "metadata": {
    "collapsed": false,
    "pycharm": {
     "name": "#%%\n"
    }
   }
  }
 ],
 "metadata": {
  "kernelspec": {
   "display_name": "Python 3",
   "language": "python",
   "name": "python3"
  },
  "language_info": {
   "codemirror_mode": {
    "name": "ipython",
    "version": 2
   },
   "file_extension": ".py",
   "mimetype": "text/x-python",
   "name": "python",
   "nbconvert_exporter": "python",
   "pygments_lexer": "ipython2",
   "version": "2.7.6"
  }
 },
 "nbformat": 4,
 "nbformat_minor": 0
}