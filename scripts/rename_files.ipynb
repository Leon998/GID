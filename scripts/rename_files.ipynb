{
 "cells": [
  {
   "cell_type": "code",
   "execution_count": 9,
   "outputs": [
    {
     "name": "stdout",
     "output_type": "stream",
     "text": [
      "3\n",
      "Total string length of the new names = 3\n",
      "['000', '001', '002', '003']\n",
      "01.mp4 ==> 001.mp4\n",
      "02.mp4 ==> 002.mp4\n",
      "03.mp4 ==> 003.mp4\n",
      "4\n",
      "Total string length of the new names = 3\n",
      "['000', '001', '002', '003', '004']\n",
      "01.mp4 ==> 001.mp4\n",
      "02.mp4 ==> 002.mp4\n",
      "03.mp4 ==> 003.mp4\n",
      "04.mp4 ==> 004.mp4\n",
      "5\n",
      "Total string length of the new names = 3\n",
      "['000', '001', '002', '003', '004', '005']\n",
      "01.mp4 ==> 001.mp4\n",
      "02.mp4 ==> 002.mp4\n",
      "03.mp4 ==> 003.mp4\n",
      "04.mp4 ==> 004.mp4\n",
      "05.mp4 ==> 005.mp4\n",
      "4\n",
      "Total string length of the new names = 3\n",
      "['000', '001', '002', '003', '004']\n",
      "01.mp4 ==> 001.mp4\n",
      "02.mp4 ==> 002.mp4\n",
      "03.mp4 ==> 003.mp4\n",
      "04.mp4 ==> 004.mp4\n",
      "5\n",
      "Total string length of the new names = 3\n",
      "['000', '001', '002', '003', '004', '005']\n",
      "01.mp4 ==> 001.mp4\n",
      "02.mp4 ==> 002.mp4\n",
      "03.mp4 ==> 003.mp4\n",
      "04.mp4 ==> 004.mp4\n",
      "05.mp4 ==> 005.mp4\n",
      "3\n",
      "Total string length of the new names = 3\n",
      "['000', '001', '002', '003']\n",
      "01.mp4 ==> 001.mp4\n",
      "02.mp4 ==> 002.mp4\n",
      "03.mp4 ==> 003.mp4\n",
      "2\n",
      "Total string length of the new names = 3\n",
      "['000', '001', '002']\n",
      "01.mp4 ==> 001.mp4\n",
      "02.mp4 ==> 002.mp4\n",
      "1\n",
      "Total string length of the new names = 3\n",
      "['000', '001']\n",
      "01.mp4 ==> 001.mp4\n",
      "4\n",
      "Total string length of the new names = 3\n",
      "['000', '001', '002', '003', '004']\n",
      "01.mp4 ==> 001.mp4\n",
      "02.mp4 ==> 002.mp4\n",
      "03.mp4 ==> 003.mp4\n",
      "04.mp4 ==> 004.mp4\n",
      "1\n",
      "Total string length of the new names = 3\n",
      "['000', '001']\n",
      "01.mp4 ==> 001.mp4\n",
      "3\n",
      "Total string length of the new names = 3\n",
      "['000', '001', '002', '003']\n",
      "01.mp4 ==> 001.mp4\n",
      "02.mp4 ==> 002.mp4\n",
      "03.mp4 ==> 003.mp4\n"
     ]
    }
   ],
   "source": [
    "import os\n",
    "\n",
    "\n",
    "def batch_rename(path, begin_num):\n",
    "    fileList = os.listdir(path)  # 获得所有文件名列表，可以print(fileList)查看\n",
    "    fileList.sort()\n",
    "    print(len(fileList))\n",
    "    name_len = 3\n",
    "    print('Total string length of the new names =', name_len)\n",
    "    L = []\n",
    "    for i in range(len(fileList) + 1):\n",
    "        zfill = name_len -len(str(i))\n",
    "        L.append('0' * zfill)\n",
    "        L[i] += str(i)\n",
    "    print(L)  # L is the list of latent new names\n",
    "    idx = begin_num\n",
    "    for filename in fileList:\n",
    "        newname = L[idx + 1] + \".mp4\"\n",
    "        print(filename, \"==>\", newname)\n",
    "        idx += 1\n",
    "        os.rename(path + filename, path + newname)\n",
    "\n",
    "# # Single folder\n",
    "# folder = '/home/shixu/My_env/Dataset/switch/'\n",
    "# batch_rename(folder, 0)\n",
    "\n",
    "# Multiple folder\n",
    "folderList = os.listdir('/home/shixu/My_env/Dataset/location2/')\n",
    "for object in folderList:\n",
    "    path = '/home/shixu/My_env/Dataset/location2/' + str(object) + '/'\n",
    "    batch_rename(path, 0)"
   ],
   "metadata": {
    "collapsed": false,
    "pycharm": {
     "name": "#%%\n"
    }
   }
  },
  {
   "cell_type": "code",
   "execution_count": null,
   "outputs": [],
   "source": [],
   "metadata": {
    "collapsed": false,
    "pycharm": {
     "name": "#%%\n"
    }
   }
  }
 ],
 "metadata": {
  "kernelspec": {
   "display_name": "Python 3",
   "language": "python",
   "name": "python3"
  },
  "language_info": {
   "codemirror_mode": {
    "name": "ipython",
    "version": 2
   },
   "file_extension": ".py",
   "mimetype": "text/x-python",
   "name": "python",
   "nbconvert_exporter": "python",
   "pygments_lexer": "ipython2",
   "version": "2.7.6"
  }
 },
 "nbformat": 4,
 "nbformat_minor": 0
}